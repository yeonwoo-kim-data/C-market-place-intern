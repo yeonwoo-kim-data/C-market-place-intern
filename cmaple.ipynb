{
 "cells": [
  {
   "cell_type": "code",
   "execution_count": 2,
   "id": "9af0da83",
   "metadata": {},
   "outputs": [],
   "source": [
    "import pandas as pd\n",
    "import re\n",
    "import numpy as np\n",
    "\n",
    "# pd.options.display.max_columns = None\n",
    "# pd.options.display.max_rows = None"
   ]
  },
  {
   "cell_type": "code",
   "execution_count": 3,
   "id": "d2d76b8e",
   "metadata": {},
   "outputs": [],
   "source": [
    "# 데이터 불러오기\n",
    "df = pd.read_csv('/Users/c-market/Downloads/data_list.csv', low_memory=False)\n"
   ]
  },
  {
   "cell_type": "code",
   "execution_count": null,
   "id": "9829e12a",
   "metadata": {},
   "outputs": [],
   "source": [
    "# 전처리 코드\n",
    "#\n",
    "#\n",
    "\n",
    "# 원본은 냅두라고\n",
    "df_test1 = df.copy()\n",
    "\n",
    "def preprocess_pdt_name(name):\n",
    "    name = str(name).lower()            # 소문자\n",
    "    name = re.sub(r'[()/\\\\\\[\\]]', ' ', name)\n",
    "  # 괄호, 슬래시, 역슬래시 제거 → 공백\n",
    "    name = re.sub(r'\\s+', ' ', name)    # 연속 공백을 한 칸으로\n",
    "    return name.strip()                  # 앞뒤 공백 제거\n",
    "\n",
    "df_test1['pdt_name_clean'] = df_test1['pdt_name'].apply(preprocess_pdt_name)\n",
    "\n",
    "df_new = df_test1[['pdt_name','pdt_name_clean','pdt_cas']]\n",
    "\n",
    "# pdt_cas가 NaN인 행만 추출\n",
    "data = df_new[df_new['pdt_cas'].isna()]\n",
    "# pdt_cas 가 NaN인 것들을 뽑아내면 시약과 분리되어 데이터가 더 가벼워짐\n",
    "# # 데이터 추출\n",
    "# data.to_csv('/Users/c-market/Downloads/data.csv')"
   ]
  },
  {
   "cell_type": "code",
   "execution_count": null,
   "id": "75eadb2e",
   "metadata": {},
   "outputs": [],
   "source": []
  }
 ],
 "metadata": {
  "kernelspec": {
   "display_name": "intern (3.9.6)",
   "language": "python",
   "name": "python3"
  },
  "language_info": {
   "codemirror_mode": {
    "name": "ipython",
    "version": 3
   },
   "file_extension": ".py",
   "mimetype": "text/x-python",
   "name": "python",
   "nbconvert_exporter": "python",
   "pygments_lexer": "ipython3",
   "version": "3.9.6"
  }
 },
 "nbformat": 4,
 "nbformat_minor": 5
}
